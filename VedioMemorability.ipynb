{
  "nbformat": 4,
  "nbformat_minor": 0,
  "metadata": {
    "colab": {
      "name": "VedioMemorability.ipynb",
      "provenance": [],
      "authorship_tag": "ABX9TyMBx1B+uZ50O18+xf//u1Ii",
      "include_colab_link": true
    },
    "kernelspec": {
      "name": "python3",
      "display_name": "Python 3"
    }
  },
  "cells": [
    {
      "cell_type": "markdown",
      "metadata": {
        "id": "view-in-github",
        "colab_type": "text"
      },
      "source": [
        "<a href=\"https://colab.research.google.com/github/vinodkmani/pandas_exercises/blob/master/VedioMemorability.ipynb\" target=\"_parent\"><img src=\"https://colab.research.google.com/assets/colab-badge.svg\" alt=\"Open In Colab\"/></a>"
      ]
    },
    {
      "cell_type": "code",
      "metadata": {
        "id": "0kmSlCIHH_0K",
        "colab_type": "code",
        "colab": {
          "base_uri": "https://localhost:8080/",
          "height": 122
        },
        "outputId": "dbdaefa4-f6b0-4a05-ef53-18f99a33466b"
      },
      "source": [
        "from google.colab import drive\n",
        "import os\n",
        "drive.mount('/content/drive/',force_remount=True)\n",
        "os.chdir('/content/drive/My Drive/MachineLearning/CA684_Assignment/')"
      ],
      "execution_count": 1,
      "outputs": [
        {
          "output_type": "stream",
          "text": [
            "Go to this URL in a browser: https://accounts.google.com/o/oauth2/auth?client_id=947318989803-6bn6qk8qdgf4n4g3pfee6491hc0brc4i.apps.googleusercontent.com&redirect_uri=urn%3aietf%3awg%3aoauth%3a2.0%3aoob&response_type=code&scope=email%20https%3a%2f%2fwww.googleapis.com%2fauth%2fdocs.test%20https%3a%2f%2fwww.googleapis.com%2fauth%2fdrive%20https%3a%2f%2fwww.googleapis.com%2fauth%2fdrive.photos.readonly%20https%3a%2f%2fwww.googleapis.com%2fauth%2fpeopleapi.readonly\n",
            "\n",
            "Enter your authorization code:\n",
            "··········\n",
            "Mounted at /content/drive/\n"
          ],
          "name": "stdout"
        }
      ]
    },
    {
      "cell_type": "code",
      "metadata": {
        "id": "WQtPBHsJIe86",
        "colab_type": "code",
        "colab": {}
      },
      "source": [
        "#Fetching inception features \n",
        "def fetch_inceptionFeatures(filename):\n",
        "    with open(filename) as f:\n",
        "        for line in f:\n",
        "            pairs=line.split()\n",
        "            incept_temp = { int(p.split(':')[0]) : float(p.split(':')[1]) for p in pairs}\n",
        "    \n",
        "    incept = np.zeros(6075)\n",
        "    for idx in incept_temp.keys():\n",
        "        incept[idx-1] = incept_temp[idx]            \n",
        "    return incept"
      ],
      "execution_count": 0,
      "outputs": []
    },
    {
      "cell_type": "code",
      "metadata": {
        "id": "3m3vCT5NIkVg",
        "colab_type": "code",
        "colab": {}
      },
      "source": [
        "#Fetching captions\n",
        "def read_captions(fname):\n",
        "    \"\"\"Fetching the captions to dataframe\"\"\"\n",
        "    ved = []\n",
        "    capt = []\n",
        "    df = pd.DataFrame();\n",
        "    with open(fname) as f:\n",
        "        for line in f:\n",
        "            pairs = line.split()\n",
        "            ved.append(pairs[0])\n",
        "            capt.append(pairs[1])\n",
        "        df['video']=ved\n",
        "        df['caption']=capt\n",
        "    return df"
      ],
      "execution_count": 0,
      "outputs": []
    },
    {
      "cell_type": "code",
      "metadata": {
        "id": "kOAlptzWJAPi",
        "colab_type": "code",
        "colab": {
          "base_uri": "https://localhost:8080/",
          "height": 85
        },
        "outputId": "c64543f0-e9e3-47e8-af80-0ab156adb287"
      },
      "source": [
        "!pip install pyprind"
      ],
      "execution_count": 4,
      "outputs": [
        {
          "output_type": "stream",
          "text": [
            "Collecting pyprind\n",
            "  Downloading https://files.pythonhosted.org/packages/1e/30/e76fb0c45da8aef49ea8d2a90d4e7a6877b45894c25f12fb961f009a891e/PyPrind-2.11.2-py3-none-any.whl\n",
            "Installing collected packages: pyprind\n",
            "Successfully installed pyprind-2.11.2\n"
          ],
          "name": "stdout"
        }
      ]
    },
    {
      "cell_type": "code",
      "metadata": {
        "id": "iZ9Zt4WEJFg1",
        "colab_type": "code",
        "colab": {
          "base_uri": "https://localhost:8080/",
          "height": 34
        },
        "outputId": "e5958caa-9b6e-4431-d319-0794d3bf20ec"
      },
      "source": [
        "import pandas as pd\n",
        "import numpy as np\n",
        "import os\n",
        "import keras\n",
        "import pyprind\n",
        "import matplotlib.pyplot as plt\n",
        "from keras.layers import Dense\n",
        "from keras.models import Sequential\n",
        "from keras.optimizers import SGD\n",
        "from sklearn.model_selection import train_test_split\n",
        "from keras.callbacks import EarlyStopping"
      ],
      "execution_count": 5,
      "outputs": [
        {
          "output_type": "stream",
          "text": [
            "Using TensorFlow backend.\n"
          ],
          "name": "stderr"
        }
      ]
    },
    {
      "cell_type": "code",
      "metadata": {
        "id": "X9daJxAcJ7rv",
        "colab_type": "code",
        "colab": {}
      },
      "source": [
        "#Fetching inception features\n",
        "df = pd.DataFrame(columns = ['video', 'arrayInfo'])\n",
        "dir_inception = '/content/drive/My Drive/MachineLearning/CA684_Assignment/Dev-set/InceptionV3'\n",
        "\n",
        "for fname in os.listdir(dir_inception):\n",
        "    if fname.endswith(\".txt\"):\n",
        "        path = os.path.join(dir_inception, fname)\n",
        "        array = fetch_inceptionFeatures(path)\n",
        "        if \"-56\" in fname:\n",
        "          fname.replace('-56','')\n",
        "          fName= fname.replace(\".txt\",\".webm\")\n",
        "          df = df.append({'video': fName, 'arrayInfo': array}, ignore_index=True)\n",
        "    else:\n",
        "        break"
      ],
      "execution_count": 0,
      "outputs": []
    },
    {
      "cell_type": "code",
      "metadata": {
        "id": "S2UdCH9_s1qO",
        "colab_type": "code",
        "colab": {
          "base_uri": "https://localhost:8080/",
          "height": 68
        },
        "outputId": "317ddee2-6773-4b35-c119-51c2d40f6ea8"
      },
      "source": [
        "df.count()"
      ],
      "execution_count": 10,
      "outputs": [
        {
          "output_type": "execute_result",
          "data": {
            "text/plain": [
              "video        6000\n",
              "arrayInfo    6000\n",
              "dtype: int64"
            ]
          },
          "metadata": {
            "tags": []
          },
          "execution_count": 10
        }
      ]
    },
    {
      "cell_type": "code",
      "metadata": {
        "id": "sngljQxquUYx",
        "colab_type": "code",
        "colab": {}
      },
      "source": [
        "count=0\n",
        "for item in df['video']:\n",
        "  df['video'][count]=item.replace('-56.webm','.webm')\n",
        "  count = count + 1"
      ],
      "execution_count": 0,
      "outputs": []
    },
    {
      "cell_type": "code",
      "metadata": {
        "id": "kxIIFRoYwjen",
        "colab_type": "code",
        "colab": {}
      },
      "source": [
        "label_path = '/content/drive/My Drive/MachineLearning/CA684_Assignment/Dev-set/Ground-truth/'\n",
        "labels=pd.read_csv(label_path+'ground-truth.csv')"
      ],
      "execution_count": 0,
      "outputs": []
    },
    {
      "cell_type": "code",
      "metadata": {
        "id": "IUFTUGCsx8tc",
        "colab_type": "code",
        "colab": {
          "base_uri": "https://localhost:8080/",
          "height": 238
        },
        "outputId": "a79e35b6-4d26-445e-b143-a1df706c269f"
      },
      "source": [
        "df_inception = df.merge(labels,on=[\"video\"],how=\"inner\")\n",
        "df_inception.columns\n",
        "df_inception.head()"
      ],
      "execution_count": 19,
      "outputs": [
        {
          "output_type": "execute_result",
          "data": {
            "text/html": [
              "<div>\n",
              "<style scoped>\n",
              "    .dataframe tbody tr th:only-of-type {\n",
              "        vertical-align: middle;\n",
              "    }\n",
              "\n",
              "    .dataframe tbody tr th {\n",
              "        vertical-align: top;\n",
              "    }\n",
              "\n",
              "    .dataframe thead th {\n",
              "        text-align: right;\n",
              "    }\n",
              "</style>\n",
              "<table border=\"1\" class=\"dataframe\">\n",
              "  <thead>\n",
              "    <tr style=\"text-align: right;\">\n",
              "      <th></th>\n",
              "      <th>video</th>\n",
              "      <th>arrayInfo</th>\n",
              "      <th>short-term_memorability</th>\n",
              "      <th>nb_short-term_annotations</th>\n",
              "      <th>long-term_memorability</th>\n",
              "      <th>nb_long-term_annotations</th>\n",
              "    </tr>\n",
              "  </thead>\n",
              "  <tbody>\n",
              "    <tr>\n",
              "      <th>0</th>\n",
              "      <td>video7364.webm</td>\n",
              "      <td>[0.0, 0.0, 0.0, 0.0, 0.0, 0.0, 0.0, 0.0, 0.0, ...</td>\n",
              "      <td>0.891</td>\n",
              "      <td>33</td>\n",
              "      <td>0.900</td>\n",
              "      <td>10</td>\n",
              "    </tr>\n",
              "    <tr>\n",
              "      <th>1</th>\n",
              "      <td>video737.webm</td>\n",
              "      <td>[2.826083e-36, 0.0, 0.0, 0.0, 1.199688e-28, 0....</td>\n",
              "      <td>0.914</td>\n",
              "      <td>44</td>\n",
              "      <td>1.000</td>\n",
              "      <td>11</td>\n",
              "    </tr>\n",
              "    <tr>\n",
              "      <th>2</th>\n",
              "      <td>video7373.webm</td>\n",
              "      <td>[0.0, 0.0, 0.0, 0.0, 0.0, 0.0, 0.0, 0.0, 0.0, ...</td>\n",
              "      <td>0.954</td>\n",
              "      <td>31</td>\n",
              "      <td>0.917</td>\n",
              "      <td>12</td>\n",
              "    </tr>\n",
              "    <tr>\n",
              "      <th>3</th>\n",
              "      <td>video7370.webm</td>\n",
              "      <td>[2.318133e-24, 3.561454e-29, 2.048143e-24, 4.1...</td>\n",
              "      <td>0.951</td>\n",
              "      <td>33</td>\n",
              "      <td>0.938</td>\n",
              "      <td>16</td>\n",
              "    </tr>\n",
              "    <tr>\n",
              "      <th>4</th>\n",
              "      <td>video7372.webm</td>\n",
              "      <td>[1.123148e-33, 0.0, 0.0, 0.0, 5.879868e-27, 0....</td>\n",
              "      <td>0.960</td>\n",
              "      <td>47</td>\n",
              "      <td>1.000</td>\n",
              "      <td>15</td>\n",
              "    </tr>\n",
              "  </tbody>\n",
              "</table>\n",
              "</div>"
            ],
            "text/plain": [
              "            video  ... nb_long-term_annotations\n",
              "0  video7364.webm  ...                       10\n",
              "1   video737.webm  ...                       11\n",
              "2  video7373.webm  ...                       12\n",
              "3  video7370.webm  ...                       16\n",
              "4  video7372.webm  ...                       15\n",
              "\n",
              "[5 rows x 6 columns]"
            ]
          },
          "metadata": {
            "tags": []
          },
          "execution_count": 19
        }
      ]
    },
    {
      "cell_type": "code",
      "metadata": {
        "id": "kkuOQJqlyFuL",
        "colab_type": "code",
        "colab": {
          "base_uri": "https://localhost:8080/",
          "height": 34
        },
        "outputId": "c0b49e30-16e4-4033-f20d-75b4363c7827"
      },
      "source": [
        "merged_arr = np.empty((0, 6075))\n",
        "merged_arr"
      ],
      "execution_count": 20,
      "outputs": [
        {
          "output_type": "execute_result",
          "data": {
            "text/plain": [
              "array([], shape=(0, 6075), dtype=float64)"
            ]
          },
          "metadata": {
            "tags": []
          },
          "execution_count": 20
        }
      ]
    },
    {
      "cell_type": "code",
      "metadata": {
        "id": "RO6i3ArX5zct",
        "colab_type": "code",
        "colab": {}
      },
      "source": [
        "for line in df_inception['arrayInfo']:\n",
        "    merged_arr = np.append(merged_arr, np.array([line]), axis = 0)"
      ],
      "execution_count": 0,
      "outputs": []
    },
    {
      "cell_type": "code",
      "metadata": {
        "id": "2ZeR2mY098yw",
        "colab_type": "code",
        "colab": {}
      },
      "source": [
        "arrayInfo = df_inception['arrayInfo'].values"
      ],
      "execution_count": 0,
      "outputs": []
    },
    {
      "cell_type": "code",
      "metadata": {
        "id": "h3WpEXGU-CAP",
        "colab_type": "code",
        "colab": {}
      },
      "source": [
        "X_inception = merged_arr"
      ],
      "execution_count": 0,
      "outputs": []
    },
    {
      "cell_type": "code",
      "metadata": {
        "id": "cHFPgyRX-KRf",
        "colab_type": "code",
        "colab": {
          "base_uri": "https://localhost:8080/",
          "height": 255
        },
        "outputId": "6e7ede9f-430a-453e-953a-e400629a7c6a"
      },
      "source": [
        "print(type(X_inception))\n",
        "X_inception"
      ],
      "execution_count": 24,
      "outputs": [
        {
          "output_type": "stream",
          "text": [
            "<class 'numpy.ndarray'>\n"
          ],
          "name": "stdout"
        },
        {
          "output_type": "execute_result",
          "data": {
            "text/plain": [
              "array([[0.000000e+00, 0.000000e+00, 0.000000e+00, ..., 0.000000e+00,\n",
              "        0.000000e+00, 0.000000e+00],\n",
              "       [2.826083e-36, 0.000000e+00, 0.000000e+00, ..., 0.000000e+00,\n",
              "        0.000000e+00, 0.000000e+00],\n",
              "       [0.000000e+00, 0.000000e+00, 0.000000e+00, ..., 0.000000e+00,\n",
              "        0.000000e+00, 0.000000e+00],\n",
              "       ...,\n",
              "       [0.000000e+00, 0.000000e+00, 0.000000e+00, ..., 0.000000e+00,\n",
              "        0.000000e+00, 0.000000e+00],\n",
              "       [0.000000e+00, 0.000000e+00, 0.000000e+00, ..., 0.000000e+00,\n",
              "        0.000000e+00, 0.000000e+00],\n",
              "       [0.000000e+00, 0.000000e+00, 0.000000e+00, ..., 0.000000e+00,\n",
              "        0.000000e+00, 0.000000e+00]])"
            ]
          },
          "metadata": {
            "tags": []
          },
          "execution_count": 24
        }
      ]
    },
    {
      "cell_type": "code",
      "metadata": {
        "id": "91UbpgsG-Usx",
        "colab_type": "code",
        "colab": {}
      },
      "source": [
        "Y=df_inception[['short-term_memorability','long-term_memorability']].values  #target\n",
        "X=X_inception #input"
      ],
      "execution_count": 0,
      "outputs": []
    },
    {
      "cell_type": "code",
      "metadata": {
        "id": "DrcO63lx-4tm",
        "colab_type": "code",
        "colab": {
          "base_uri": "https://localhost:8080/",
          "height": 85
        },
        "outputId": "8a182d5a-52f5-4466-ec28-432c21147716"
      },
      "source": [
        "X_train, X_test, Y_train, Y_test = train_test_split(X,Y, test_size=0.2, random_state=42) # random state for reproducability\n",
        "\n",
        "print('X_train', X_train.shape)\n",
        "print('X_test', X_test.shape)\n",
        "print('Y_train', Y_train.shape)\n",
        "print('Y_test', Y_test.shape)"
      ],
      "execution_count": 26,
      "outputs": [
        {
          "output_type": "stream",
          "text": [
            "X_train (4800, 6075)\n",
            "X_test (1200, 6075)\n",
            "Y_train (4800, 2)\n",
            "Y_test (1200, 2)\n"
          ],
          "name": "stdout"
        }
      ]
    },
    {
      "cell_type": "code",
      "metadata": {
        "id": "qFINZ-oZ_Gll",
        "colab_type": "code",
        "colab": {
          "base_uri": "https://localhost:8080/",
          "height": 34
        },
        "outputId": "f395c217-e695-484a-d987-23b974d1b9d8"
      },
      "source": [
        "col_num = X_train.shape[1]\n",
        "col_num"
      ],
      "execution_count": 27,
      "outputs": [
        {
          "output_type": "execute_result",
          "data": {
            "text/plain": [
              "6075"
            ]
          },
          "metadata": {
            "tags": []
          },
          "execution_count": 27
        }
      ]
    },
    {
      "cell_type": "code",
      "metadata": {
        "id": "OMF-pDNq_MNv",
        "colab_type": "code",
        "colab": {}
      },
      "source": [
        "model = Sequential()\n",
        "model.add(Dense(100, activation='relu', input_shape=(col_num,)))\n",
        "#The second layer\n",
        "model.add(Dense(100, activation='relu'))\n",
        "#The output layer\n",
        "model.add(Dense(2))"
      ],
      "execution_count": 0,
      "outputs": []
    },
    {
      "cell_type": "code",
      "metadata": {
        "id": "s89J66GH_hzh",
        "colab_type": "code",
        "colab": {}
      },
      "source": [
        "# Compiling and defining early_stopping_monitor \n",
        "model.compile(optimizer='adam', loss='mean_squared_error', metrics=['accuracy'])\n",
        "early_stopping_monitor = EarlyStopping(patience=2)\t"
      ],
      "execution_count": 0,
      "outputs": []
    },
    {
      "cell_type": "code",
      "metadata": {
        "id": "KBpNiTeRBaXm",
        "colab_type": "code",
        "colab": {}
      },
      "source": [
        "#To calculate Spearmann\"s correlation coefficient\t\n",
        "def Calculate_SpearmanScore(Y_prediction,Y_true):\n",
        "    '''Spearmann\"s correlation coefficient'''\n",
        "    Y_prediction = np.squeeze(Y_prediction)\n",
        "    Y_true = np.squeeze(Y_true)\n",
        "    if Y_prediction.shape != Y_true.shape:\n",
        "        print('Input shapes don\\'t match!')\n",
        "    else:\n",
        "        if len(Y_prediction.shape) == 1:\n",
        "            Result = pd.DataFrame({'Y_true':Y_true,'Y_prediction':Y_prediction})\n",
        "            score = Result[['Y_true','Y_prediction']].corr(method='spearman',min_periods=1)\n",
        "            print('Spearman\\'s correlation coefficient : %.3f' % score.iloc[1][0])\n",
        "        else:\n",
        "            for ii in range(Y_prediction.shape[1]):\n",
        "                Calculate_SpearmanScore(Y_prediction[:,ii],Y_true[:,ii])"
      ],
      "execution_count": 0,
      "outputs": []
    },
    {
      "cell_type": "code",
      "metadata": {
        "id": "2erS244fBdru",
        "colab_type": "code",
        "colab": {
          "base_uri": "https://localhost:8080/",
          "height": 448
        },
        "outputId": "a59d8997-60cd-4284-ae92-a3100b89b803"
      },
      "source": [
        "# Fit the model\n",
        "historyMod=model.fit(X_train, Y_train, validation_split=0.3, epochs=30, callbacks= [early_stopping_monitor])\n",
        "loss = historyMod.history['loss']\n",
        "val_loss = historyMod.history['val_loss']\n",
        "epochs = range(1,len(loss)+1)\n",
        "plt.plot(epochs,loss,'bo',label='Training loss')\n",
        "plt.plot(epochs,val_loss,'b',label='Validation loss')\n",
        "plt.title('Training and validation loss')\n",
        "plt.xlabel('Epochs')\n",
        "plt.ylabel('Loss')\n",
        "plt.legend()\n",
        "plt.show()"
      ],
      "execution_count": 31,
      "outputs": [
        {
          "output_type": "stream",
          "text": [
            "Train on 3360 samples, validate on 1440 samples\n",
            "Epoch 1/30\n",
            "3360/3360 [==============================] - 2s 626us/step - loss: 0.1345 - accuracy: 0.6268 - val_loss: 0.0141 - val_accuracy: 0.6986\n",
            "Epoch 2/30\n",
            "3360/3360 [==============================] - 2s 510us/step - loss: 0.0137 - accuracy: 0.7039 - val_loss: 0.0138 - val_accuracy: 0.6965\n",
            "Epoch 3/30\n",
            "3360/3360 [==============================] - 2s 517us/step - loss: 0.0136 - accuracy: 0.7051 - val_loss: 0.0141 - val_accuracy: 0.6951\n",
            "Epoch 4/30\n",
            "3360/3360 [==============================] - 2s 506us/step - loss: 0.0136 - accuracy: 0.7051 - val_loss: 0.0139 - val_accuracy: 0.6958\n"
          ],
          "name": "stdout"
        },
        {
          "output_type": "display_data",
          "data": {
            "image/png": "[encoded data removed]",
            "text/plain": [
              "<Figure size 432x288 with 1 Axes>"
            ]
          },
          "metadata": {
            "tags": [],
            "needs_background": "light"
          }
        }
      ]
    },
    {
      "cell_type": "code",
      "metadata": {
        "id": "wVONXRNlBux0",
        "colab_type": "code",
        "colab": {
          "base_uri": "https://localhost:8080/",
          "height": 170
        },
        "outputId": "c11d2ab5-c5f2-4aa1-823d-925c501a6166"
      },
      "source": [
        "model_predictions = model.predict(X_test)\n",
        "print(model_predictions)\n",
        "Calculate_SpearmanScore(model_predictions, Y_test)"
      ],
      "execution_count": 32,
      "outputs": [
        {
          "output_type": "stream",
          "text": [
            "[[0.87100303 0.7734306 ]\n",
            " [0.8391351  0.77812517]\n",
            " [0.8673724  0.7866619 ]\n",
            " ...\n",
            " [0.86533433 0.79132134]\n",
            " [0.8586352  0.78081083]\n",
            " [0.8366358  0.753265  ]]\n",
            "Spearman's correlation coefficient : 0.131\n",
            "Spearman's correlation coefficient : 0.041\n"
          ],
          "name": "stdout"
        }
      ]
    }
  ]
}