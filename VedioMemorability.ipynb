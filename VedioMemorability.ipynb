{
  "nbformat": 4,
  "nbformat_minor": 0,
  "metadata": {
    "colab": {
      "name": "VedioMemorability.ipynb",
      "provenance": [],
      "authorship_tag": "ABX9TyOQW4vLls3PR982Ejs/bDcc",
      "include_colab_link": true
    },
    "kernelspec": {
      "name": "python3",
      "display_name": "Python 3"
    }
  },
  "cells": [
    {
      "cell_type": "markdown",
      "metadata": {
        "id": "view-in-github",
        "colab_type": "text"
      },
      "source": [
        "<a href=\"https://colab.research.google.com/github/vinodkmani/pandas_exercises/blob/master/VedioMemorability.ipynb\" target=\"_parent\"><img src=\"https://colab.research.google.com/assets/colab-badge.svg\" alt=\"Open In Colab\"/></a>"
      ]
    },
    {
      "cell_type": "code",
      "metadata": {
        "id": "0kmSlCIHH_0K",
        "colab_type": "code",
        "outputId": "ad895e00-35ec-4472-8b76-1f292f3daa1e",
        "colab": {
          "base_uri": "https://localhost:8080/",
          "height": 122
        }
      },
      "source": [
        "from google.colab import drive\n",
        "import os\n",
        "drive.mount('/content/drive/',force_remount=True)\n",
        "os.chdir('/content/drive/My Drive/MachineLearning/CA684_Assignment/')"
      ],
      "execution_count": 6,
      "outputs": [
        {
          "output_type": "stream",
          "text": [
            "Go to this URL in a browser: https://accounts.google.com/o/oauth2/auth?client_id=947318989803-6bn6qk8qdgf4n4g3pfee6491hc0brc4i.apps.googleusercontent.com&redirect_uri=urn%3aietf%3awg%3aoauth%3a2.0%3aoob&response_type=code&scope=email%20https%3a%2f%2fwww.googleapis.com%2fauth%2fdocs.test%20https%3a%2f%2fwww.googleapis.com%2fauth%2fdrive%20https%3a%2f%2fwww.googleapis.com%2fauth%2fdrive.photos.readonly%20https%3a%2f%2fwww.googleapis.com%2fauth%2fpeopleapi.readonly\n",
            "\n",
            "Enter your authorization code:\n",
            "··········\n",
            "Mounted at /content/drive/\n"
          ],
          "name": "stdout"
        }
      ]
    },
    {
      "cell_type": "code",
      "metadata": {
        "id": "WQtPBHsJIe86",
        "colab_type": "code",
        "colab": {}
      },
      "source": [
        "#Fetching inception features \n",
        "def fetch_inceptionFeatures(filename):\n",
        "    with open(filename) as f:\n",
        "        for line in f:\n",
        "            pairs=line.split()\n",
        "            incept_temp = { int(p.split(':')[0]) : float(p.split(':')[1]) for p in pairs}\n",
        "    \n",
        "    incept = np.zeros(6075)\n",
        "    for idx in incept_temp.keys():\n",
        "        incept[idx-1] = incept_temp[idx]            \n",
        "    return incept"
      ],
      "execution_count": 0,
      "outputs": []
    },
    {
      "cell_type": "code",
      "metadata": {
        "id": "3m3vCT5NIkVg",
        "colab_type": "code",
        "colab": {}
      },
      "source": [
        "#Fetching captions\n",
        "def read_captions(fname):\n",
        "    \"\"\"Fetching the captions to dataframe\"\"\"\n",
        "    ved = []\n",
        "    capt = []\n",
        "    df = pd.DataFrame();\n",
        "    with open(fname) as f:\n",
        "        for line in f:\n",
        "            pairs = line.split()\n",
        "            ved.append(pairs[0])\n",
        "            capt.append(pairs[1])\n",
        "        df['video']=ved\n",
        "        df['caption']=capt\n",
        "    return df"
      ],
      "execution_count": 0,
      "outputs": []
    },
    {
      "cell_type": "code",
      "metadata": {
        "id": "kOAlptzWJAPi",
        "colab_type": "code",
        "outputId": "b5604674-ac7e-4321-b43a-db8b5af27b0f",
        "colab": {
          "base_uri": "https://localhost:8080/",
          "height": 85
        }
      },
      "source": [
        "!pip install pyprind"
      ],
      "execution_count": 7,
      "outputs": [
        {
          "output_type": "stream",
          "text": [
            "Collecting pyprind\n",
            "  Downloading https://files.pythonhosted.org/packages/1e/30/e76fb0c45da8aef49ea8d2a90d4e7a6877b45894c25f12fb961f009a891e/PyPrind-2.11.2-py3-none-any.whl\n",
            "Installing collected packages: pyprind\n",
            "Successfully installed pyprind-2.11.2\n"
          ],
          "name": "stdout"
        }
      ]
    },
    {
      "cell_type": "code",
      "metadata": {
        "id": "iZ9Zt4WEJFg1",
        "colab_type": "code",
        "colab": {}
      },
      "source": [
        "import pandas as pd\n",
        "import numpy as np\n",
        "import os\n",
        "import keras\n",
        "import pyprind\n",
        "import matplotlib.pyplot as plt\n",
        "from keras.layers import Dense\n",
        "from keras.models import Sequential\n",
        "from keras.optimizers import SGD\n",
        "from sklearn.model_selection import train_test_split\n",
        "from keras.callbacks import EarlyStopping"
      ],
      "execution_count": 0,
      "outputs": []
    },
    {
      "cell_type": "code",
      "metadata": {
        "id": "X9daJxAcJ7rv",
        "colab_type": "code",
        "colab": {}
      },
      "source": [
        "#Fetching inception features\n",
        "df = pd.DataFrame(columns = ['video', 'arrayInfo'])\n",
        "dir_inception = '/content/drive/My Drive/MachineLearning/CA684_Assignment/Dev-set/InceptionV3'\n",
        "\n",
        "for fname in os.listdir(dir_inception):\n",
        "    if fname.endswith(\".txt\"):\n",
        "        path = os.path.join(dir_inception, fname)\n",
        "        array = fetch_inceptionFeatures(path)\n",
        "        if \"-56\" in fname:\n",
        "          fname.replace('-56','')\n",
        "          fName= fname.replace(\".txt\",\".webm\")\n",
        "          df = df.append({'video': fName, 'arrayInfo': array}, ignore_index=True)\n",
        "    else:\n",
        "        break"
      ],
      "execution_count": 0,
      "outputs": []
    },
    {
      "cell_type": "code",
      "metadata": {
        "id": "S2UdCH9_s1qO",
        "colab_type": "code",
        "outputId": "317ddee2-6773-4b35-c119-51c2d40f6ea8",
        "colab": {
          "base_uri": "https://localhost:8080/",
          "height": 68
        }
      },
      "source": [
        "df.count()"
      ],
      "execution_count": 0,
      "outputs": [
        {
          "output_type": "execute_result",
          "data": {
            "text/plain": [
              "video        6000\n",
              "arrayInfo    6000\n",
              "dtype: int64"
            ]
          },
          "metadata": {
            "tags": []
          },
          "execution_count": 10
        }
      ]
    },
    {
      "cell_type": "code",
      "metadata": {
        "id": "sngljQxquUYx",
        "colab_type": "code",
        "colab": {}
      },
      "source": [
        "count=0\n",
        "for item in df['video']:\n",
        "  df['video'][count]=item.replace('-56.webm','.webm')\n",
        "  count = count + 1"
      ],
      "execution_count": 0,
      "outputs": []
    },
    {
      "cell_type": "code",
      "metadata": {
        "id": "kxIIFRoYwjen",
        "colab_type": "code",
        "colab": {}
      },
      "source": [
        "label_path = '/content/drive/My Drive/MachineLearning/CA684_Assignment/Dev-set/Ground-truth/'\n",
        "labels=pd.read_csv(label_path+'ground-truth.csv')"
      ],
      "execution_count": 0,
      "outputs": []
    },
    {
      "cell_type": "code",
      "metadata": {
        "id": "IUFTUGCsx8tc",
        "colab_type": "code",
        "outputId": "a79e35b6-4d26-445e-b143-a1df706c269f",
        "colab": {
          "base_uri": "https://localhost:8080/",
          "height": 238
        }
      },
      "source": [
        "df_inception = df.merge(labels,on=[\"video\"],how=\"inner\")\n",
        "df_inception.columns\n",
        "df_inception.head()"
      ],
      "execution_count": 0,
      "outputs": [
        {
          "output_type": "execute_result",
          "data": {
            "text/html": [
              "<div>\n",
              "<style scoped>\n",
              "    .dataframe tbody tr th:only-of-type {\n",
              "        vertical-align: middle;\n",
              "    }\n",
              "\n",
              "    .dataframe tbody tr th {\n",
              "        vertical-align: top;\n",
              "    }\n",
              "\n",
              "    .dataframe thead th {\n",
              "        text-align: right;\n",
              "    }\n",
              "</style>\n",
              "<table border=\"1\" class=\"dataframe\">\n",
              "  <thead>\n",
              "    <tr style=\"text-align: right;\">\n",
              "      <th></th>\n",
              "      <th>video</th>\n",
              "      <th>arrayInfo</th>\n",
              "      <th>short-term_memorability</th>\n",
              "      <th>nb_short-term_annotations</th>\n",
              "      <th>long-term_memorability</th>\n",
              "      <th>nb_long-term_annotations</th>\n",
              "    </tr>\n",
              "  </thead>\n",
              "  <tbody>\n",
              "    <tr>\n",
              "      <th>0</th>\n",
              "      <td>video7364.webm</td>\n",
              "      <td>[0.0, 0.0, 0.0, 0.0, 0.0, 0.0, 0.0, 0.0, 0.0, ...</td>\n",
              "      <td>0.891</td>\n",
              "      <td>33</td>\n",
              "      <td>0.900</td>\n",
              "      <td>10</td>\n",
              "    </tr>\n",
              "    <tr>\n",
              "      <th>1</th>\n",
              "      <td>video737.webm</td>\n",
              "      <td>[2.826083e-36, 0.0, 0.0, 0.0, 1.199688e-28, 0....</td>\n",
              "      <td>0.914</td>\n",
              "      <td>44</td>\n",
              "      <td>1.000</td>\n",
              "      <td>11</td>\n",
              "    </tr>\n",
              "    <tr>\n",
              "      <th>2</th>\n",
              "      <td>video7373.webm</td>\n",
              "      <td>[0.0, 0.0, 0.0, 0.0, 0.0, 0.0, 0.0, 0.0, 0.0, ...</td>\n",
              "      <td>0.954</td>\n",
              "      <td>31</td>\n",
              "      <td>0.917</td>\n",
              "      <td>12</td>\n",
              "    </tr>\n",
              "    <tr>\n",
              "      <th>3</th>\n",
              "      <td>video7370.webm</td>\n",
              "      <td>[2.318133e-24, 3.561454e-29, 2.048143e-24, 4.1...</td>\n",
              "      <td>0.951</td>\n",
              "      <td>33</td>\n",
              "      <td>0.938</td>\n",
              "      <td>16</td>\n",
              "    </tr>\n",
              "    <tr>\n",
              "      <th>4</th>\n",
              "      <td>video7372.webm</td>\n",
              "      <td>[1.123148e-33, 0.0, 0.0, 0.0, 5.879868e-27, 0....</td>\n",
              "      <td>0.960</td>\n",
              "      <td>47</td>\n",
              "      <td>1.000</td>\n",
              "      <td>15</td>\n",
              "    </tr>\n",
              "  </tbody>\n",
              "</table>\n",
              "</div>"
            ],
            "text/plain": [
              "            video  ... nb_long-term_annotations\n",
              "0  video7364.webm  ...                       10\n",
              "1   video737.webm  ...                       11\n",
              "2  video7373.webm  ...                       12\n",
              "3  video7370.webm  ...                       16\n",
              "4  video7372.webm  ...                       15\n",
              "\n",
              "[5 rows x 6 columns]"
            ]
          },
          "metadata": {
            "tags": []
          },
          "execution_count": 19
        }
      ]
    },
    {
      "cell_type": "code",
      "metadata": {
        "id": "kkuOQJqlyFuL",
        "colab_type": "code",
        "outputId": "c0b49e30-16e4-4033-f20d-75b4363c7827",
        "colab": {
          "base_uri": "https://localhost:8080/",
          "height": 34
        }
      },
      "source": [
        "merged_arr = np.empty((0, 6075))\n",
        "merged_arr"
      ],
      "execution_count": 0,
      "outputs": [
        {
          "output_type": "execute_result",
          "data": {
            "text/plain": [
              "array([], shape=(0, 6075), dtype=float64)"
            ]
          },
          "metadata": {
            "tags": []
          },
          "execution_count": 20
        }
      ]
    },
    {
      "cell_type": "code",
      "metadata": {
        "id": "RO6i3ArX5zct",
        "colab_type": "code",
        "colab": {}
      },
      "source": [
        "for line in df_inception['arrayInfo']:\n",
        "    merged_arr = np.append(merged_arr, np.array([line]), axis = 0)"
      ],
      "execution_count": 0,
      "outputs": []
    },
    {
      "cell_type": "code",
      "metadata": {
        "id": "2ZeR2mY098yw",
        "colab_type": "code",
        "colab": {}
      },
      "source": [
        "arrayInfo = df_inception['arrayInfo'].values"
      ],
      "execution_count": 0,
      "outputs": []
    },
    {
      "cell_type": "code",
      "metadata": {
        "id": "h3WpEXGU-CAP",
        "colab_type": "code",
        "colab": {}
      },
      "source": [
        "X_inception = merged_arr"
      ],
      "execution_count": 0,
      "outputs": []
    },
    {
      "cell_type": "code",
      "metadata": {
        "id": "cHFPgyRX-KRf",
        "colab_type": "code",
        "outputId": "6e7ede9f-430a-453e-953a-e400629a7c6a",
        "colab": {
          "base_uri": "https://localhost:8080/",
          "height": 255
        }
      },
      "source": [
        "print(type(X_inception))\n",
        "X_inception"
      ],
      "execution_count": 0,
      "outputs": [
        {
          "output_type": "stream",
          "text": [
            "<class 'numpy.ndarray'>\n"
          ],
          "name": "stdout"
        },
        {
          "output_type": "execute_result",
          "data": {
            "text/plain": [
              "array([[0.000000e+00, 0.000000e+00, 0.000000e+00, ..., 0.000000e+00,\n",
              "        0.000000e+00, 0.000000e+00],\n",
              "       [2.826083e-36, 0.000000e+00, 0.000000e+00, ..., 0.000000e+00,\n",
              "        0.000000e+00, 0.000000e+00],\n",
              "       [0.000000e+00, 0.000000e+00, 0.000000e+00, ..., 0.000000e+00,\n",
              "        0.000000e+00, 0.000000e+00],\n",
              "       ...,\n",
              "       [0.000000e+00, 0.000000e+00, 0.000000e+00, ..., 0.000000e+00,\n",
              "        0.000000e+00, 0.000000e+00],\n",
              "       [0.000000e+00, 0.000000e+00, 0.000000e+00, ..., 0.000000e+00,\n",
              "        0.000000e+00, 0.000000e+00],\n",
              "       [0.000000e+00, 0.000000e+00, 0.000000e+00, ..., 0.000000e+00,\n",
              "        0.000000e+00, 0.000000e+00]])"
            ]
          },
          "metadata": {
            "tags": []
          },
          "execution_count": 24
        }
      ]
    },
    {
      "cell_type": "code",
      "metadata": {
        "id": "91UbpgsG-Usx",
        "colab_type": "code",
        "colab": {}
      },
      "source": [
        "Y=df_inception[['short-term_memorability','long-term_memorability']].values  #target\n",
        "X=X_inception #input"
      ],
      "execution_count": 0,
      "outputs": []
    },
    {
      "cell_type": "code",
      "metadata": {
        "id": "DrcO63lx-4tm",
        "colab_type": "code",
        "outputId": "8a182d5a-52f5-4466-ec28-432c21147716",
        "colab": {
          "base_uri": "https://localhost:8080/",
          "height": 85
        }
      },
      "source": [
        "X_train, X_test, Y_train, Y_test = train_test_split(X,Y, test_size=0.2, random_state=42) # random state for reproducability\n",
        "\n",
        "print('X_train', X_train.shape)\n",
        "print('X_test', X_test.shape)\n",
        "print('Y_train', Y_train.shape)\n",
        "print('Y_test', Y_test.shape)"
      ],
      "execution_count": 0,
      "outputs": [
        {
          "output_type": "stream",
          "text": [
            "X_train (4800, 6075)\n",
            "X_test (1200, 6075)\n",
            "Y_train (4800, 2)\n",
            "Y_test (1200, 2)\n"
          ],
          "name": "stdout"
        }
      ]
    },
    {
      "cell_type": "code",
      "metadata": {
        "id": "qFINZ-oZ_Gll",
        "colab_type": "code",
        "outputId": "f395c217-e695-484a-d987-23b974d1b9d8",
        "colab": {
          "base_uri": "https://localhost:8080/",
          "height": 34
        }
      },
      "source": [
        "col_num = X_train.shape[1]\n",
        "col_num"
      ],
      "execution_count": 0,
      "outputs": [
        {
          "output_type": "execute_result",
          "data": {
            "text/plain": [
              "6075"
            ]
          },
          "metadata": {
            "tags": []
          },
          "execution_count": 27
        }
      ]
    },
    {
      "cell_type": "code",
      "metadata": {
        "id": "OMF-pDNq_MNv",
        "colab_type": "code",
        "colab": {}
      },
      "source": [
        "model = Sequential()\n",
        "model.add(Dense(100, activation='relu', input_shape=(col_num,)))\n",
        "#The second layer\n",
        "model.add(Dense(100, activation='relu'))\n",
        "#The output layer\n",
        "model.add(Dense(2))"
      ],
      "execution_count": 0,
      "outputs": []
    },
    {
      "cell_type": "code",
      "metadata": {
        "id": "s89J66GH_hzh",
        "colab_type": "code",
        "colab": {}
      },
      "source": [
        "# Compiling and defining early_stopping_monitor \n",
        "model.compile(optimizer='adam', loss='mean_squared_error', metrics=['accuracy'])\n",
        "early_stopping_monitor = EarlyStopping(patience=2)\t"
      ],
      "execution_count": 0,
      "outputs": []
    },
    {
      "cell_type": "code",
      "metadata": {
        "id": "KBpNiTeRBaXm",
        "colab_type": "code",
        "colab": {}
      },
      "source": [
        "#To calculate Spearmann\"s correlation coefficient\t\n",
        "def Calculate_SpearmanScore(Y_prediction,Y_true):\n",
        "    '''Spearmann\"s correlation coefficient'''\n",
        "    Y_prediction = np.squeeze(Y_prediction)\n",
        "    Y_true = np.squeeze(Y_true)\n",
        "    if Y_prediction.shape != Y_true.shape:\n",
        "        print('Input shapes don\\'t match!')\n",
        "    else:\n",
        "        if len(Y_prediction.shape) == 1:\n",
        "            Result = pd.DataFrame({'Y_true':Y_true,'Y_prediction':Y_prediction})\n",
        "            score = Result[['Y_true','Y_prediction']].corr(method='spearman',min_periods=1)\n",
        "            print('Spearman\\'s correlation coefficient : %.3f' % score.iloc[1][0])\n",
        "        else:\n",
        "            for ii in range(Y_prediction.shape[1]):\n",
        "                Calculate_SpearmanScore(Y_prediction[:,ii],Y_true[:,ii])"
      ],
      "execution_count": 0,
      "outputs": []
    },
    {
      "cell_type": "code",
      "metadata": {
        "id": "2erS244fBdru",
        "colab_type": "code",
        "outputId": "a59d8997-60cd-4284-ae92-a3100b89b803",
        "colab": {
          "base_uri": "https://localhost:8080/",
          "height": 448
        }
      },
      "source": [
        "# Fit the model\n",
        "historyMod=model.fit(X_train, Y_train, validation_split=0.3, epochs=30, callbacks= [early_stopping_monitor])\n",
        "loss = historyMod.history['loss']\n",
        "val_loss = historyMod.history['val_loss']\n",
        "epochs = range(1,len(loss)+1)\n",
        "plt.plot(epochs,loss,'bo',label='Training loss')\n",
        "plt.plot(epochs,val_loss,'b',label='Validation loss')\n",
        "plt.title('Training and validation loss')\n",
        "plt.xlabel('Epochs')\n",
        "plt.ylabel('Loss')\n",
        "plt.legend()\n",
        "plt.show()"
      ],
      "execution_count": 0,
      "outputs": [
        {
          "output_type": "stream",
          "text": [
            "Train on 3360 samples, validate on 1440 samples\n",
            "Epoch 1/30\n",
            "3360/3360 [==============================] - 2s 626us/step - loss: 0.1345 - accuracy: 0.6268 - val_loss: 0.0141 - val_accuracy: 0.6986\n",
            "Epoch 2/30\n",
            "3360/3360 [==============================] - 2s 510us/step - loss: 0.0137 - accuracy: 0.7039 - val_loss: 0.0138 - val_accuracy: 0.6965\n",
            "Epoch 3/30\n",
            "3360/3360 [==============================] - 2s 517us/step - loss: 0.0136 - accuracy: 0.7051 - val_loss: 0.0141 - val_accuracy: 0.6951\n",
            "Epoch 4/30\n",
            "3360/3360 [==============================] - 2s 506us/step - loss: 0.0136 - accuracy: 0.7051 - val_loss: 0.0139 - val_accuracy: 0.6958\n"
          ],
          "name": "stdout"
        },
        {
          "output_type": "display_data",
          "data": {
            "image/png": "[encoded data removed]",
            "text/plain": [
              "<Figure size 432x288 with 1 Axes>"
            ]
          },
          "metadata": {
            "tags": [],
            "needs_background": "light"
          }
        }
      ]
    },
    {
      "cell_type": "code",
      "metadata": {
        "id": "wVONXRNlBux0",
        "colab_type": "code",
        "outputId": "c11d2ab5-c5f2-4aa1-823d-925c501a6166",
        "colab": {
          "base_uri": "https://localhost:8080/",
          "height": 170
        }
      },
      "source": [
        "model_predictions = model.predict(X_test)\n",
        "print(model_predictions)\n",
        "Calculate_SpearmanScore(model_predictions, Y_test)"
      ],
      "execution_count": 0,
      "outputs": [
        {
          "output_type": "stream",
          "text": [
            "[[0.87100303 0.7734306 ]\n",
            " [0.8391351  0.77812517]\n",
            " [0.8673724  0.7866619 ]\n",
            " ...\n",
            " [0.86533433 0.79132134]\n",
            " [0.8586352  0.78081083]\n",
            " [0.8366358  0.753265  ]]\n",
            "Spearman's correlation coefficient : 0.131\n",
            "Spearman's correlation coefficient : 0.041\n"
          ],
          "name": "stdout"
        }
      ]
    },
    {
      "cell_type": "code",
      "metadata": {
        "id": "LRCiOtPNfgBZ",
        "colab_type": "code",
        "colab": {
          "base_uri": "https://localhost:8080/",
          "height": 51
        },
        "outputId": "04463fc6-13b9-4ca6-a637-1798997dd802"
      },
      "source": [
        "import nltk\n",
        "nltk.download('stopwords')\n",
        "stopwords=nltk.corpus.stopwords.words('english')"
      ],
      "execution_count": 1,
      "outputs": [
        {
          "output_type": "stream",
          "text": [
            "[nltk_data] Downloading package stopwords to /root/nltk_data...\n",
            "[nltk_data]   Unzipping corpora/stopwords.zip.\n"
          ],
          "name": "stdout"
        }
      ]
    },
    {
      "cell_type": "code",
      "metadata": {
        "id": "Lha2i3dJfupA",
        "colab_type": "code",
        "colab": {}
      },
      "source": [
        "caption_path='/content/drive/My Drive/MachineLearning/CA684_Assignment/Dev-set/Captions/dev-set_video-captions.txt'\n",
        "captions=read_captions(caption_path)"
      ],
      "execution_count": 0,
      "outputs": []
    },
    {
      "cell_type": "code",
      "metadata": {
        "id": "Me6srZ9lhSnz",
        "colab_type": "code",
        "colab": {}
      },
      "source": [
        "#Remove stopwords and punctuations\n",
        "from string import punctuation\n",
        "for i, cap in enumerate(captions['caption']):\n",
        "    # replace punctuations with space\n",
        "    # convert words to lower case \n",
        "    text = ''.join([c if c not in punctuation else ' ' for c in cap]).lower()\n",
        "    #removing stopwords\n",
        "    rmv_stopwords= ' '.join([word for word in text.split() if word not in stopwords])\n",
        "    captions.loc[i,'caption'] = rmv_stopwords #updating the original captions"
      ],
      "execution_count": 0,
      "outputs": []
    },
    {
      "cell_type": "code",
      "metadata": {
        "id": "AQppzhdJiZZU",
        "colab_type": "code",
        "colab": {
          "base_uri": "https://localhost:8080/",
          "height": 204
        },
        "outputId": "1809b4b4-16fe-41fc-e27d-e3641878cb95"
      },
      "source": [
        "captions.head()"
      ],
      "execution_count": 12,
      "outputs": [
        {
          "output_type": "execute_result",
          "data": {
            "text/html": [
              "<div>\n",
              "<style scoped>\n",
              "    .dataframe tbody tr th:only-of-type {\n",
              "        vertical-align: middle;\n",
              "    }\n",
              "\n",
              "    .dataframe tbody tr th {\n",
              "        vertical-align: top;\n",
              "    }\n",
              "\n",
              "    .dataframe thead th {\n",
              "        text-align: right;\n",
              "    }\n",
              "</style>\n",
              "<table border=\"1\" class=\"dataframe\">\n",
              "  <thead>\n",
              "    <tr style=\"text-align: right;\">\n",
              "      <th></th>\n",
              "      <th>video</th>\n",
              "      <th>caption</th>\n",
              "    </tr>\n",
              "  </thead>\n",
              "  <tbody>\n",
              "    <tr>\n",
              "      <th>0</th>\n",
              "      <td>video3.webm</td>\n",
              "      <td>blonde woman massaged tilt</td>\n",
              "    </tr>\n",
              "    <tr>\n",
              "      <th>1</th>\n",
              "      <td>video4.webm</td>\n",
              "      <td>roulette table spinning ball closeup shot</td>\n",
              "    </tr>\n",
              "    <tr>\n",
              "      <th>2</th>\n",
              "      <td>video6.webm</td>\n",
              "      <td>khr gangsters</td>\n",
              "    </tr>\n",
              "    <tr>\n",
              "      <th>3</th>\n",
              "      <td>video8.webm</td>\n",
              "      <td>medical helicopter hovers airport</td>\n",
              "    </tr>\n",
              "    <tr>\n",
              "      <th>4</th>\n",
              "      <td>video10.webm</td>\n",
              "      <td>couple relaxing picnic crane shot</td>\n",
              "    </tr>\n",
              "  </tbody>\n",
              "</table>\n",
              "</div>"
            ],
            "text/plain": [
              "          video                                    caption\n",
              "0   video3.webm                 blonde woman massaged tilt\n",
              "1   video4.webm  roulette table spinning ball closeup shot\n",
              "2   video6.webm                              khr gangsters\n",
              "3   video8.webm          medical helicopter hovers airport\n",
              "4  video10.webm          couple relaxing picnic crane shot"
            ]
          },
          "metadata": {
            "tags": []
          },
          "execution_count": 12
        }
      ]
    },
    {
      "cell_type": "code",
      "metadata": {
        "id": "JoOLiGC6irhm",
        "colab_type": "code",
        "colab": {
          "base_uri": "https://localhost:8080/",
          "height": 34
        },
        "outputId": "8aa301ca-7102-4172-85e6-4a71aef32d22"
      },
      "source": [
        "\n",
        "#implementing bag of words for the combined captions\n",
        "from sklearn.feature_extraction.text import CountVectorizer\n",
        "vectorizer = CountVectorizer(analyzer = \"word\",max_features=3112) \n",
        "captions_bag = vectorizer.fit_transform(captions.caption).toarray()\n",
        "type(captions_bag)"
      ],
      "execution_count": 13,
      "outputs": [
        {
          "output_type": "execute_result",
          "data": {
            "text/plain": [
              "numpy.ndarray"
            ]
          },
          "metadata": {
            "tags": []
          },
          "execution_count": 13
        }
      ]
    },
    {
      "cell_type": "code",
      "metadata": {
        "id": "SZticLvijqpA",
        "colab_type": "code",
        "colab": {}
      },
      "source": [
        "X = captions_bag\n",
        "y = labels[['short-term_memorability','long-term_memorability']].values"
      ],
      "execution_count": 0,
      "outputs": []
    },
    {
      "cell_type": "code",
      "metadata": {
        "id": "Z2LFjgGtkvWe",
        "colab_type": "code",
        "colab": {
          "base_uri": "https://localhost:8080/",
          "height": 85
        },
        "outputId": "7c4cd632-8c8d-4c20-b2cd-215f2eeb83d1"
      },
      "source": [
        "X_train,X_test,y_train,y_test = train_test_split(X,y,test_size=0.2,random_state=42)\n",
        "print('X_train ', X_train.shape)\n",
        "print('X_test  ', X_test.shape)\n",
        "print('Y_train ', y_train.shape)\n",
        "print('Y_test  ', y_test.shape)"
      ],
      "execution_count": 20,
      "outputs": [
        {
          "output_type": "stream",
          "text": [
            "X_train  (4800, 3112)\n",
            "X_test   (1200, 3112)\n",
            "Y_train  (4800, 2)\n",
            "Y_test   (1200, 2)\n"
          ],
          "name": "stdout"
        }
      ]
    },
    {
      "cell_type": "code",
      "metadata": {
        "id": "mrjQczuvmpFR",
        "colab_type": "code",
        "colab": {
          "base_uri": "https://localhost:8080/",
          "height": 136
        },
        "outputId": "8cc05313-75d6-43a0-dd4a-5303e30f7add"
      },
      "source": [
        "from sklearn.ensemble import RandomForestRegressor\n",
        "captions_rf = RandomForestRegressor(n_estimators=100,random_state=45)\n",
        "captions_rf.fit(X_train,y_train)"
      ],
      "execution_count": 23,
      "outputs": [
        {
          "output_type": "execute_result",
          "data": {
            "text/plain": [
              "RandomForestRegressor(bootstrap=True, ccp_alpha=0.0, criterion='mse',\n",
              "                      max_depth=None, max_features='auto', max_leaf_nodes=None,\n",
              "                      max_samples=None, min_impurity_decrease=0.0,\n",
              "                      min_impurity_split=None, min_samples_leaf=1,\n",
              "                      min_samples_split=2, min_weight_fraction_leaf=0.0,\n",
              "                      n_estimators=100, n_jobs=None, oob_score=False,\n",
              "                      random_state=45, verbose=0, warm_start=False)"
            ]
          },
          "metadata": {
            "tags": []
          },
          "execution_count": 23
        }
      ]
    },
    {
      "cell_type": "code",
      "metadata": {
        "id": "FcwMKHlNtbOm",
        "colab_type": "code",
        "colab": {}
      },
      "source": [
        "captions_pred = captions_rf.predict(X_test)"
      ],
      "execution_count": 0,
      "outputs": []
    },
    {
      "cell_type": "code",
      "metadata": {
        "id": "tmTWwP26tkMO",
        "colab_type": "code",
        "colab": {
          "base_uri": "https://localhost:8080/",
          "height": 51
        },
        "outputId": "85780145-0116-409d-e83c-12a9cf8a3c91"
      },
      "source": [
        "Calculate_SpearmanScore(captions_pred, y_test)"
      ],
      "execution_count": 27,
      "outputs": [
        {
          "output_type": "stream",
          "text": [
            "Spearman's correlation coefficient : 0.409\n",
            "Spearman's correlation coefficient : 0.176\n"
          ],
          "name": "stdout"
        }
      ]
    },
    {
      "cell_type": "markdown",
      "metadata": {
        "id": "pATBwzfhxJ-n",
        "colab_type": "text"
      },
      "source": [
        "CREATING MODEL WITH CAPTIONS"
      ]
    },
    {
      "cell_type": "code",
      "metadata": {
        "id": "I0DUDm4ExPzU",
        "colab_type": "code",
        "colab": {
          "base_uri": "https://localhost:8080/",
          "height": 51
        },
        "outputId": "9ffd9529-d2d0-440b-8e19-c795e810ca4a"
      },
      "source": [
        "X = captions_bag\n",
        "y = labels[['short-term_memorability','long-term_memorability']].values\n",
        "print(f'X: ({len(X)})')\n",
        "print(f'y:{y.shape}')"
      ],
      "execution_count": 34,
      "outputs": [
        {
          "output_type": "stream",
          "text": [
            "X: (6000)\n",
            "y:(6000, 2)\n"
          ],
          "name": "stdout"
        }
      ]
    },
    {
      "cell_type": "code",
      "metadata": {
        "id": "l-Z1s5koxcrW",
        "colab_type": "code",
        "colab": {
          "base_uri": "https://localhost:8080/",
          "height": 136
        },
        "outputId": "0ecf8854-ef89-47c1-ef05-77b9a85e4756"
      },
      "source": [
        "from sklearn.ensemble import RandomForestRegressor\n",
        "rf_regressor = RandomForestRegressor(n_estimators=100,random_state=45)\n",
        "rf_regressor.fit(X,y)"
      ],
      "execution_count": 35,
      "outputs": [
        {
          "output_type": "execute_result",
          "data": {
            "text/plain": [
              "RandomForestRegressor(bootstrap=True, ccp_alpha=0.0, criterion='mse',\n",
              "                      max_depth=None, max_features='auto', max_leaf_nodes=None,\n",
              "                      max_samples=None, min_impurity_decrease=0.0,\n",
              "                      min_impurity_split=None, min_samples_leaf=1,\n",
              "                      min_samples_split=2, min_weight_fraction_leaf=0.0,\n",
              "                      n_estimators=100, n_jobs=None, oob_score=False,\n",
              "                      random_state=45, verbose=0, warm_start=False)"
            ]
          },
          "metadata": {
            "tags": []
          },
          "execution_count": 35
        }
      ]
    },
    {
      "cell_type": "code",
      "metadata": {
        "id": "UidMmfbU5w_3",
        "colab_type": "code",
        "colab": {}
      },
      "source": [
        "#Including test Ground_Truth csv file\n",
        "        label_test_path = '/content/drive/My Drive/MachineLearning/CA684_Assignment/Test-set/Ground-truth_test/ground_truth_template.csv'\n",
        "        labels_test=pd.read_csv(label_test_path)\n",
        "\n"
      ],
      "execution_count": 0,
      "outputs": []
    },
    {
      "cell_type": "code",
      "metadata": {
        "id": "hSFYbu317W2d",
        "colab_type": "code",
        "colab": {}
      },
      "source": [
        "captions_test_path ='/content/drive/My Drive/MachineLearning/CA684_Assignment/Test-set/Captions_test/test-set-1_video-captions.txt'\n",
        "captions_test = read_captions(captions_test_path)"
      ],
      "execution_count": 0,
      "outputs": []
    },
    {
      "cell_type": "code",
      "metadata": {
        "id": "AvnyAg_i8QHN",
        "colab_type": "code",
        "colab": {
          "base_uri": "https://localhost:8080/",
          "height": 204
        },
        "outputId": "23dc23cb-8a6f-4c64-9093-8cf3a0f204f4"
      },
      "source": [
        "captions_test.head()"
      ],
      "execution_count": 40,
      "outputs": [
        {
          "output_type": "execute_result",
          "data": {
            "text/html": [
              "<div>\n",
              "<style scoped>\n",
              "    .dataframe tbody tr th:only-of-type {\n",
              "        vertical-align: middle;\n",
              "    }\n",
              "\n",
              "    .dataframe tbody tr th {\n",
              "        vertical-align: top;\n",
              "    }\n",
              "\n",
              "    .dataframe thead th {\n",
              "        text-align: right;\n",
              "    }\n",
              "</style>\n",
              "<table border=\"1\" class=\"dataframe\">\n",
              "  <thead>\n",
              "    <tr style=\"text-align: right;\">\n",
              "      <th></th>\n",
              "      <th>video</th>\n",
              "      <th>caption</th>\n",
              "    </tr>\n",
              "  </thead>\n",
              "  <tbody>\n",
              "    <tr>\n",
              "      <th>0</th>\n",
              "      <td>video7494.webm</td>\n",
              "      <td>green-jeep-struggling-to-drive-over-huge-rocks</td>\n",
              "    </tr>\n",
              "    <tr>\n",
              "      <th>1</th>\n",
              "      <td>video7495.webm</td>\n",
              "      <td>hiking-woman-tourist-is-walking-forward-in-mou...</td>\n",
              "    </tr>\n",
              "    <tr>\n",
              "      <th>2</th>\n",
              "      <td>video7496.webm</td>\n",
              "      <td>close-up-of-african-american-doctors-hands-usi...</td>\n",
              "    </tr>\n",
              "    <tr>\n",
              "      <th>3</th>\n",
              "      <td>video7497.webm</td>\n",
              "      <td>slow-motion-of-a-man-using-treadmill-in-the-gy...</td>\n",
              "    </tr>\n",
              "    <tr>\n",
              "      <th>4</th>\n",
              "      <td>video7498.webm</td>\n",
              "      <td>slow-motion-of-photographer-in-national-park</td>\n",
              "    </tr>\n",
              "  </tbody>\n",
              "</table>\n",
              "</div>"
            ],
            "text/plain": [
              "            video                                            caption\n",
              "0  video7494.webm     green-jeep-struggling-to-drive-over-huge-rocks\n",
              "1  video7495.webm  hiking-woman-tourist-is-walking-forward-in-mou...\n",
              "2  video7496.webm  close-up-of-african-american-doctors-hands-usi...\n",
              "3  video7497.webm  slow-motion-of-a-man-using-treadmill-in-the-gy...\n",
              "4  video7498.webm       slow-motion-of-photographer-in-national-park"
            ]
          },
          "metadata": {
            "tags": []
          },
          "execution_count": 40
        }
      ]
    },
    {
      "cell_type": "code",
      "metadata": {
        "id": "3a49PRfq8iWk",
        "colab_type": "code",
        "colab": {}
      },
      "source": [
        "\n",
        "#Removing punctuation and stopwords\n",
        "for i, cap in enumerate(captions_test['caption']):\n",
        "    text = ''.join([c if c not in punctuation else ' ' for c in cap]).lower()\n",
        "    rmv_stopwords= ' '.join([word for word in text.split() if word not in stopwords])\n",
        "    captions_test.loc[i,'caption'] = rmv_stopwords #updating the original captions "
      ],
      "execution_count": 0,
      "outputs": []
    },
    {
      "cell_type": "code",
      "metadata": {
        "id": "TkByHM5h9E5o",
        "colab_type": "code",
        "colab": {
          "base_uri": "https://localhost:8080/",
          "height": 204
        },
        "outputId": "82a86fbe-b175-4250-b256-2c8d51c82b2b"
      },
      "source": [
        "captions_test.head()"
      ],
      "execution_count": 43,
      "outputs": [
        {
          "output_type": "execute_result",
          "data": {
            "text/html": [
              "<div>\n",
              "<style scoped>\n",
              "    .dataframe tbody tr th:only-of-type {\n",
              "        vertical-align: middle;\n",
              "    }\n",
              "\n",
              "    .dataframe tbody tr th {\n",
              "        vertical-align: top;\n",
              "    }\n",
              "\n",
              "    .dataframe thead th {\n",
              "        text-align: right;\n",
              "    }\n",
              "</style>\n",
              "<table border=\"1\" class=\"dataframe\">\n",
              "  <thead>\n",
              "    <tr style=\"text-align: right;\">\n",
              "      <th></th>\n",
              "      <th>video</th>\n",
              "      <th>caption</th>\n",
              "    </tr>\n",
              "  </thead>\n",
              "  <tbody>\n",
              "    <tr>\n",
              "      <th>0</th>\n",
              "      <td>video7494.webm</td>\n",
              "      <td>green jeep struggling drive huge rocks</td>\n",
              "    </tr>\n",
              "    <tr>\n",
              "      <th>1</th>\n",
              "      <td>video7495.webm</td>\n",
              "      <td>hiking woman tourist walking forward mountains...</td>\n",
              "    </tr>\n",
              "    <tr>\n",
              "      <th>2</th>\n",
              "      <td>video7496.webm</td>\n",
              "      <td>close african american doctors hands using sph...</td>\n",
              "    </tr>\n",
              "    <tr>\n",
              "      <th>3</th>\n",
              "      <td>video7497.webm</td>\n",
              "      <td>slow motion man using treadmill gym regular ph...</td>\n",
              "    </tr>\n",
              "    <tr>\n",
              "      <th>4</th>\n",
              "      <td>video7498.webm</td>\n",
              "      <td>slow motion photographer national park</td>\n",
              "    </tr>\n",
              "  </tbody>\n",
              "</table>\n",
              "</div>"
            ],
            "text/plain": [
              "            video                                            caption\n",
              "0  video7494.webm             green jeep struggling drive huge rocks\n",
              "1  video7495.webm  hiking woman tourist walking forward mountains...\n",
              "2  video7496.webm  close african american doctors hands using sph...\n",
              "3  video7497.webm  slow motion man using treadmill gym regular ph...\n",
              "4  video7498.webm             slow motion photographer national park"
            ]
          },
          "metadata": {
            "tags": []
          },
          "execution_count": 43
        }
      ]
    },
    {
      "cell_type": "code",
      "metadata": {
        "id": "grWapyzA9gBh",
        "colab_type": "code",
        "colab": {
          "base_uri": "https://localhost:8080/",
          "height": 51
        },
        "outputId": "15f53fa5-1c12-4b46-9743-7cd6147b1bf2"
      },
      "source": [
        "#implementing bag of words for the combined captions\n",
        "from sklearn.feature_extraction.text import CountVectorizer\n",
        "vectorizer = CountVectorizer(analyzer = \"word\",max_features=3122) \n",
        "test_captions_bag = vectorizer.fit_transform(captions_test.caption).toarray()\n",
        "type(test_captions_bag)\n",
        "\n",
        "print(f'Development Vocabulary Size   : {len(captions_bag[0])}')\n",
        "print(f'Testing Vocabulary Size       : {len(test_captions_bag[0])}')"
      ],
      "execution_count": 44,
      "outputs": [
        {
          "output_type": "stream",
          "text": [
            "Development Vocabulary Size   : 3112\n",
            "Testing Vocabulary Size       : 3112\n"
          ],
          "name": "stdout"
        }
      ]
    },
    {
      "cell_type": "code",
      "metadata": {
        "id": "nggxh7S19mz8",
        "colab_type": "code",
        "colab": {
          "base_uri": "https://localhost:8080/",
          "height": 204
        },
        "outputId": "b01f347c-4671-4993-b285-5f75cb5b00ec"
      },
      "source": [
        "test_pred = rf_regressor.predict(test_captions_bag)\n",
        "pred = pd.DataFrame()\n",
        "type(test_pred)\n",
        "pred['short-term'] = test_pred[:,0]\n",
        "pred['long-term'] = test_pred[:,1]\n",
        "pred.head()"
      ],
      "execution_count": 45,
      "outputs": [
        {
          "output_type": "execute_result",
          "data": {
            "text/html": [
              "<div>\n",
              "<style scoped>\n",
              "    .dataframe tbody tr th:only-of-type {\n",
              "        vertical-align: middle;\n",
              "    }\n",
              "\n",
              "    .dataframe tbody tr th {\n",
              "        vertical-align: top;\n",
              "    }\n",
              "\n",
              "    .dataframe thead th {\n",
              "        text-align: right;\n",
              "    }\n",
              "</style>\n",
              "<table border=\"1\" class=\"dataframe\">\n",
              "  <thead>\n",
              "    <tr style=\"text-align: right;\">\n",
              "      <th></th>\n",
              "      <th>short-term</th>\n",
              "      <th>long-term</th>\n",
              "    </tr>\n",
              "  </thead>\n",
              "  <tbody>\n",
              "    <tr>\n",
              "      <th>0</th>\n",
              "      <td>0.854635</td>\n",
              "      <td>0.712699</td>\n",
              "    </tr>\n",
              "    <tr>\n",
              "      <th>1</th>\n",
              "      <td>0.898883</td>\n",
              "      <td>0.781500</td>\n",
              "    </tr>\n",
              "    <tr>\n",
              "      <th>2</th>\n",
              "      <td>0.841901</td>\n",
              "      <td>0.805625</td>\n",
              "    </tr>\n",
              "    <tr>\n",
              "      <th>3</th>\n",
              "      <td>0.915282</td>\n",
              "      <td>0.826990</td>\n",
              "    </tr>\n",
              "    <tr>\n",
              "      <th>4</th>\n",
              "      <td>0.866134</td>\n",
              "      <td>0.711727</td>\n",
              "    </tr>\n",
              "  </tbody>\n",
              "</table>\n",
              "</div>"
            ],
            "text/plain": [
              "   short-term  long-term\n",
              "0    0.854635   0.712699\n",
              "1    0.898883   0.781500\n",
              "2    0.841901   0.805625\n",
              "3    0.915282   0.826990\n",
              "4    0.866134   0.711727"
            ]
          },
          "metadata": {
            "tags": []
          },
          "execution_count": 45
        }
      ]
    },
    {
      "cell_type": "code",
      "metadata": {
        "id": "jmkEgcIJ-Bka",
        "colab_type": "code",
        "colab": {}
      },
      "source": [
        "pred.to_csv('/content/drive/My Drive/MachineLearning/Results.csv',index=False)"
      ],
      "execution_count": 0,
      "outputs": []
    }
  ]
}